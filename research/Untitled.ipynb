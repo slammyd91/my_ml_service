{
 "cells": [
  {
   "cell_type": "code",
   "execution_count": 6,
   "id": "8c270be6-fad0-4f81-b531-83558b646558",
   "metadata": {
    "collapsed": true,
    "jupyter": {
     "outputs_hidden": true
    }
   },
   "outputs": [
    {
     "name": "stdout",
     "output_type": "stream",
     "text": [
      "Requirement already satisfied: numpy in c:\\users\\pc\\projects\\my_ml_service\\venv\\lib\\site-packages (1.26.2)\n",
      "Requirement already satisfied: pandas in c:\\users\\pc\\projects\\my_ml_service\\venv\\lib\\site-packages (2.1.3)\n",
      "Collecting scikit-learn\n",
      "  Obtaining dependency information for scikit-learn from https://files.pythonhosted.org/packages/4e/ba/ce9bd1cd4953336a0e213b29cb80bb11816f2a93de8c99f88ef0b446ad0c/scikit_learn-1.3.2-cp311-cp311-win_amd64.whl.metadata\n",
      "  Downloading scikit_learn-1.3.2-cp311-cp311-win_amd64.whl.metadata (11 kB)\n",
      "Requirement already satisfied: joblib in c:\\users\\pc\\projects\\my_ml_service\\venv\\lib\\site-packages (1.3.2)\n",
      "Requirement already satisfied: python-dateutil>=2.8.2 in c:\\users\\pc\\projects\\my_ml_service\\venv\\lib\\site-packages (from pandas) (2.8.2)\n",
      "Requirement already satisfied: pytz>=2020.1 in c:\\users\\pc\\projects\\my_ml_service\\venv\\lib\\site-packages (from pandas) (2023.3.post1)\n",
      "Requirement already satisfied: tzdata>=2022.1 in c:\\users\\pc\\projects\\my_ml_service\\venv\\lib\\site-packages (from pandas) (2023.3)\n",
      "Collecting scipy>=1.5.0 (from scikit-learn)\n",
      "  Obtaining dependency information for scipy>=1.5.0 from https://files.pythonhosted.org/packages/43/d0/f3cd75b62e1b90f48dbf091261b2fc7ceec14a700e308c50f6a69c83d337/scipy-1.11.4-cp311-cp311-win_amd64.whl.metadata\n",
      "  Downloading scipy-1.11.4-cp311-cp311-win_amd64.whl.metadata (60 kB)\n",
      "     ---------------------------------------- 0.0/60.4 kB ? eta -:--:--\n",
      "     ---------------------------------------- 0.0/60.4 kB ? eta -:--:--\n",
      "     ------ --------------------------------- 10.2/60.4 kB ? eta -:--:--\n",
      "     -------------------------------------- 60.4/60.4 kB 643.1 kB/s eta 0:00:00\n",
      "Collecting threadpoolctl>=2.0.0 (from scikit-learn)\n",
      "  Obtaining dependency information for threadpoolctl>=2.0.0 from https://files.pythonhosted.org/packages/81/12/fd4dea011af9d69e1cad05c75f3f7202cdcbeac9b712eea58ca779a72865/threadpoolctl-3.2.0-py3-none-any.whl.metadata\n",
      "  Downloading threadpoolctl-3.2.0-py3-none-any.whl.metadata (10.0 kB)\n",
      "Requirement already satisfied: six>=1.5 in c:\\users\\pc\\projects\\my_ml_service\\venv\\lib\\site-packages (from python-dateutil>=2.8.2->pandas) (1.16.0)\n",
      "Downloading scikit_learn-1.3.2-cp311-cp311-win_amd64.whl (9.2 MB)\n",
      "   ---------------------------------------- 0.0/9.2 MB ? eta -:--:--\n",
      "   ---------------------------------------- 0.1/9.2 MB 2.6 MB/s eta 0:00:04\n",
      "   -- ------------------------------------- 0.5/9.2 MB 6.0 MB/s eta 0:00:02\n",
      "   ---- ----------------------------------- 0.9/9.2 MB 7.3 MB/s eta 0:00:02\n",
      "   ---------- ----------------------------- 2.5/9.2 MB 14.2 MB/s eta 0:00:01\n",
      "   ----------------------- ---------------- 5.4/9.2 MB 24.6 MB/s eta 0:00:01\n",
      "   ------------------------------------- -- 8.6/9.2 MB 32.1 MB/s eta 0:00:01\n",
      "   ---------------------------------------- 9.2/9.2 MB 31.0 MB/s eta 0:00:00\n",
      "Downloading scipy-1.11.4-cp311-cp311-win_amd64.whl (44.1 MB)\n",
      "   ---------------------------------------- 0.0/44.1 MB ? eta -:--:--\n",
      "   -- ------------------------------------- 3.2/44.1 MB 68.6 MB/s eta 0:00:01\n",
      "   ----- ---------------------------------- 6.6/44.1 MB 70.2 MB/s eta 0:00:01\n",
      "   -------- ------------------------------- 9.7/44.1 MB 68.8 MB/s eta 0:00:01\n",
      "   ----------- ---------------------------- 13.1/44.1 MB 65.6 MB/s eta 0:00:01\n",
      "   -------------- ------------------------- 16.2/44.1 MB 65.2 MB/s eta 0:00:01\n",
      "   ----------------- ---------------------- 19.3/44.1 MB 65.2 MB/s eta 0:00:01\n",
      "   -------------------- ------------------- 22.7/44.1 MB 65.6 MB/s eta 0:00:01\n",
      "   ----------------------- ---------------- 25.9/44.1 MB 72.6 MB/s eta 0:00:01\n",
      "   -------------------------- ------------- 29.1/44.1 MB 72.6 MB/s eta 0:00:01\n",
      "   ----------------------------- ---------- 32.1/44.1 MB 73.1 MB/s eta 0:00:01\n",
      "   -------------------------------- ------- 35.4/44.1 MB 73.1 MB/s eta 0:00:01\n",
      "   ----------------------------------- ---- 38.6/44.1 MB 73.1 MB/s eta 0:00:01\n",
      "   ------------------------------------- -- 41.8/44.1 MB 72.6 MB/s eta 0:00:01\n",
      "   ---------------------------------------  44.1/44.1 MB 73.1 MB/s eta 0:00:01\n",
      "   ---------------------------------------  44.1/44.1 MB 73.1 MB/s eta 0:00:01\n",
      "   ---------------------------------------- 44.1/44.1 MB 43.7 MB/s eta 0:00:00\n",
      "Downloading threadpoolctl-3.2.0-py3-none-any.whl (15 kB)\n",
      "Installing collected packages: threadpoolctl, scipy, scikit-learn\n",
      "Successfully installed scikit-learn-1.3.2 scipy-1.11.4 threadpoolctl-3.2.0\n",
      "Note: you may need to restart the kernel to use updated packages.\n"
     ]
    },
    {
     "name": "stderr",
     "output_type": "stream",
     "text": [
      "\n",
      "[notice] A new release of pip is available: 23.2.1 -> 23.3.1\n",
      "[notice] To update, run: python.exe -m pip install --upgrade pip\n"
     ]
    }
   ],
   "source": [
    "pip install numpy pandas scikit-learn joblib"
   ]
  },
  {
   "cell_type": "code",
   "execution_count": 7,
   "id": "c44f01d2-58ee-4b8a-9ec2-7644f4a3fa4a",
   "metadata": {},
   "outputs": [],
   "source": [
    "import json # will be needed for saving preprocessing details\n",
    "import numpy as np # for data manipulation\n",
    "import pandas as pd # for data manipulation\n",
    "from sklearn.model_selection import train_test_split # will be used for data split\n",
    "from sklearn.preprocessing import LabelEncoder # for preprocessing\n",
    "from sklearn.ensemble import RandomForestClassifier # for training the algorithm\n",
    "from sklearn.ensemble import ExtraTreesClassifier # for training the algorithm\n",
    "import joblib # for saving algorithm and preprocessing objects\n"
   ]
  },
  {
   "cell_type": "code",
   "execution_count": 10,
   "id": "f3683d1d-567b-4524-877b-17a9b33c6bd8",
   "metadata": {
    "scrolled": true
   },
   "outputs": [
    {
     "data": {
      "text/html": [
       "<div>\n",
       "<style scoped>\n",
       "    .dataframe tbody tr th:only-of-type {\n",
       "        vertical-align: middle;\n",
       "    }\n",
       "\n",
       "    .dataframe tbody tr th {\n",
       "        vertical-align: top;\n",
       "    }\n",
       "\n",
       "    .dataframe thead th {\n",
       "        text-align: right;\n",
       "    }\n",
       "</style>\n",
       "<table border=\"1\" class=\"dataframe\">\n",
       "  <thead>\n",
       "    <tr style=\"text-align: right;\">\n",
       "      <th></th>\n",
       "      <th>age</th>\n",
       "      <th>workclass</th>\n",
       "      <th>fnlwgt</th>\n",
       "      <th>education</th>\n",
       "      <th>education-num</th>\n",
       "      <th>marital-status</th>\n",
       "      <th>occupation</th>\n",
       "      <th>relationship</th>\n",
       "      <th>race</th>\n",
       "      <th>sex</th>\n",
       "      <th>capital-gain</th>\n",
       "      <th>capital-loss</th>\n",
       "      <th>hours-per-week</th>\n",
       "      <th>native-country</th>\n",
       "      <th>income</th>\n",
       "    </tr>\n",
       "  </thead>\n",
       "  <tbody>\n",
       "    <tr>\n",
       "      <th>0</th>\n",
       "      <td>39</td>\n",
       "      <td>State-gov</td>\n",
       "      <td>77516</td>\n",
       "      <td>Bachelors</td>\n",
       "      <td>13</td>\n",
       "      <td>Never-married</td>\n",
       "      <td>Adm-clerical</td>\n",
       "      <td>Not-in-family</td>\n",
       "      <td>White</td>\n",
       "      <td>Male</td>\n",
       "      <td>2174</td>\n",
       "      <td>0</td>\n",
       "      <td>40</td>\n",
       "      <td>United-States</td>\n",
       "      <td>&lt;=50K</td>\n",
       "    </tr>\n",
       "    <tr>\n",
       "      <th>1</th>\n",
       "      <td>50</td>\n",
       "      <td>Self-emp-not-inc</td>\n",
       "      <td>83311</td>\n",
       "      <td>Bachelors</td>\n",
       "      <td>13</td>\n",
       "      <td>Married-civ-spouse</td>\n",
       "      <td>Exec-managerial</td>\n",
       "      <td>Husband</td>\n",
       "      <td>White</td>\n",
       "      <td>Male</td>\n",
       "      <td>0</td>\n",
       "      <td>0</td>\n",
       "      <td>13</td>\n",
       "      <td>United-States</td>\n",
       "      <td>&lt;=50K</td>\n",
       "    </tr>\n",
       "    <tr>\n",
       "      <th>2</th>\n",
       "      <td>38</td>\n",
       "      <td>Private</td>\n",
       "      <td>215646</td>\n",
       "      <td>HS-grad</td>\n",
       "      <td>9</td>\n",
       "      <td>Divorced</td>\n",
       "      <td>Handlers-cleaners</td>\n",
       "      <td>Not-in-family</td>\n",
       "      <td>White</td>\n",
       "      <td>Male</td>\n",
       "      <td>0</td>\n",
       "      <td>0</td>\n",
       "      <td>40</td>\n",
       "      <td>United-States</td>\n",
       "      <td>&lt;=50K</td>\n",
       "    </tr>\n",
       "    <tr>\n",
       "      <th>3</th>\n",
       "      <td>53</td>\n",
       "      <td>Private</td>\n",
       "      <td>234721</td>\n",
       "      <td>11th</td>\n",
       "      <td>7</td>\n",
       "      <td>Married-civ-spouse</td>\n",
       "      <td>Handlers-cleaners</td>\n",
       "      <td>Husband</td>\n",
       "      <td>Black</td>\n",
       "      <td>Male</td>\n",
       "      <td>0</td>\n",
       "      <td>0</td>\n",
       "      <td>40</td>\n",
       "      <td>United-States</td>\n",
       "      <td>&lt;=50K</td>\n",
       "    </tr>\n",
       "    <tr>\n",
       "      <th>4</th>\n",
       "      <td>28</td>\n",
       "      <td>Private</td>\n",
       "      <td>338409</td>\n",
       "      <td>Bachelors</td>\n",
       "      <td>13</td>\n",
       "      <td>Married-civ-spouse</td>\n",
       "      <td>Prof-specialty</td>\n",
       "      <td>Wife</td>\n",
       "      <td>Black</td>\n",
       "      <td>Female</td>\n",
       "      <td>0</td>\n",
       "      <td>0</td>\n",
       "      <td>40</td>\n",
       "      <td>Cuba</td>\n",
       "      <td>&lt;=50K</td>\n",
       "    </tr>\n",
       "  </tbody>\n",
       "</table>\n",
       "</div>"
      ],
      "text/plain": [
       "   age         workclass  fnlwgt  education  education-num  \\\n",
       "0   39         State-gov   77516  Bachelors             13   \n",
       "1   50  Self-emp-not-inc   83311  Bachelors             13   \n",
       "2   38           Private  215646    HS-grad              9   \n",
       "3   53           Private  234721       11th              7   \n",
       "4   28           Private  338409  Bachelors             13   \n",
       "\n",
       "       marital-status         occupation   relationship   race     sex  \\\n",
       "0       Never-married       Adm-clerical  Not-in-family  White    Male   \n",
       "1  Married-civ-spouse    Exec-managerial        Husband  White    Male   \n",
       "2            Divorced  Handlers-cleaners  Not-in-family  White    Male   \n",
       "3  Married-civ-spouse  Handlers-cleaners        Husband  Black    Male   \n",
       "4  Married-civ-spouse     Prof-specialty           Wife  Black  Female   \n",
       "\n",
       "   capital-gain  capital-loss  hours-per-week native-country income  \n",
       "0          2174             0              40  United-States  <=50K  \n",
       "1             0             0              13  United-States  <=50K  \n",
       "2             0             0              40  United-States  <=50K  \n",
       "3             0             0              40  United-States  <=50K  \n",
       "4             0             0              40           Cuba  <=50K  "
      ]
     },
     "execution_count": 10,
     "metadata": {},
     "output_type": "execute_result"
    }
   ],
   "source": [
    "# load dataset\n",
    "# pd.read_csv function to load a CSV file into a DataFrame\n",
    "df = pd.read_csv('https://raw.githubusercontent.com/pplonski/datasets-for-start/master/adult/data.csv', skipinitialspace=True)\n",
    "\n",
    "# Creates a list of column names from the DataFrame 'df'\n",
    "# df.columns provides all column names of the DataFrame\n",
    "# if c != 'income' excludes income from the x_cols list. This implies 'income' is the target variable for the model, and the rest are feature variables\n",
    "x_cols = [c for c in df.columns if c != 'income']\n",
    "\n",
    "# set input matrix('X') and target column('y')\n",
    "# X creates a new DataFrame that contains only the feature columns\n",
    "X = df[x_cols]\n",
    "\n",
    "# y creates a new Dataframe that contains the 'income' column from the df\n",
    "# In ML, 'X' usually denotes the input features, and 'y' denotes the target or label\n",
    "y = df['income']\n",
    "\n",
    "# show first rows of data\n",
    "# Pandas function that returns the first 5 rows of the DataFrame 'df'\n",
    "df.head()"
   ]
  },
  {
   "cell_type": "code",
   "execution_count": 16,
   "id": "d1d31802-3b8b-467e-9859-6b5787deca26",
   "metadata": {},
   "outputs": [],
   "source": [
    "X_train, X_test, y_train, y_test = train_test_split(X, y, test_size=0.3, random_state=1234)\n",
    "\n",
    "# data split train / test\n",
    "# 'train_test_split' function from sklearn.model_selection that randomly splits the dataset into training and testing subsets\n",
    "# Parameters X (features) and y (target) of the dataset. X contains input variables y contains output variable that the model needs to predict\n",
    "# test_size=0.3 means 30% test data and 70% training data.\n",
    "# Function output returns 4 subsets of data\n",
    "# X_train and y_train are the features and labels for the training set\n",
    "# X_test and y_test are the features and labels for the test set\n",
    "\n",
    "# HOW IT WORKS!\n",
    "\n",
    "# The main reason for splitting the dataset into training and testing sets is to evaluate the performance of the ML model\n",
    "\n",
    "# The model is training on the X_train and y_train data, and then it is tested on the unseen X_test data. The model's \n",
    "# predictions for 'X_test' are compared against the actual labels y_test to evaluate its performance.\n",
    "\n",
    "# This approach helps in assessing how well the model will generalize to new, unseen data, which is critical for understanding\n",
    "# its effectiveness in real-world scenarios\n"
   ]
  },
  {
   "cell_type": "code",
   "execution_count": 17,
   "id": "29d08a6c-db90-4bcb-a4e2-1a9552025075",
   "metadata": {
    "scrolled": true
   },
   "outputs": [
    {
     "name": "stdout",
     "output_type": "stream",
     "text": [
      "{'age': 31.0, 'workclass': 'Private', 'fnlwgt': 121124, 'education': 'HS-grad', 'education-num': 9.0, 'marital-status': 'Married-civ-spouse', 'occupation': 'Prof-specialty', 'relationship': 'Husband', 'race': 'White', 'sex': 'Male', 'capital-gain': 0.0, 'capital-loss': 0.0, 'hours-per-week': 40.0, 'native-country': 'United-States'}\n"
     ]
    }
   ],
   "source": [
    "# Data pre-processing\n",
    "\n",
    "# There are missing values and categorical columns in the data set. For ML algorithm training use the Random Forest \n",
    "# algorithm from the sklearn package. In the current implementation it cannot handle missing values and categorical \n",
    "# columns, why we need to apply preprocessing algorithm. \n",
    "\n",
    "# To fill missing values we will use the most frequent value in each column (there are many other filling methods, \n",
    "# the one selected here is just an example. \n",
    "\n",
    "# fill missing values\n",
    "train_mode = dict(X_train.mode().iloc[0])\n",
    "X_train = X_train.fillna(train_mode)\n",
    "print(train_mode)\n",
    "\n"
   ]
  },
  {
   "cell_type": "code",
   "execution_count": 18,
   "id": "827ada39-bb8e-4290-abfd-84864a382891",
   "metadata": {},
   "outputs": [],
   "source": [
    "# convert categoricals into numbers\n",
    "encoders = {}\n",
    "for column in ['workclass', 'education', 'marital-status',\n",
    "                'occupation', 'relationship', 'race',\n",
    "                'sex','native-country']:\n",
    "    categorical_convert = LabelEncoder()\n",
    "    X_train[column] = categorical_convert.fit_transform(X_train[column])\n",
    "    encoders[column] = categorical_convert"
   ]
  },
  {
   "cell_type": "code",
   "execution_count": 19,
   "id": "764483cd-e800-4545-9097-8c916378f907",
   "metadata": {},
   "outputs": [],
   "source": [
    "# train the Random Forest algorithm\n",
    "rf = RandomForestClassifier(n_estimators = 100)\n",
    "rf = rf.fit(X_train, y_train)"
   ]
  },
  {
   "cell_type": "code",
   "execution_count": 20,
   "id": "f6b145ea-e98a-4a13-9b55-57311dabfe55",
   "metadata": {},
   "outputs": [],
   "source": [
    "# train the Extra Trees algorithm\n",
    "et = ExtraTreesClassifier(n_estimators = 100)\n",
    "et = et.fit(X_train, y_train)"
   ]
  },
  {
   "cell_type": "code",
   "execution_count": 21,
   "id": "dc7be3a0-aa16-473e-a0e6-9ffea4e32197",
   "metadata": {},
   "outputs": [
    {
     "data": {
      "text/plain": [
       "['./extra_trees.joblib']"
      ]
     },
     "execution_count": 21,
     "metadata": {},
     "output_type": "execute_result"
    }
   ],
   "source": [
    "# save preprocessing objects and RF algorithm\n",
    "joblib.dump(train_mode, \"./train_mode.joblib\", compress=True)\n",
    "joblib.dump(encoders, \"./encoders.joblib\", compress=True)\n",
    "joblib.dump(rf, \"./random_forest.joblib\", compress=True)\n",
    "joblib.dump(et, \"./extra_trees.joblib\", compress=True)"
   ]
  },
  {
   "cell_type": "code",
   "execution_count": null,
   "id": "725ee0f2-f374-4c08-a5ff-59c65a9b7e2b",
   "metadata": {},
   "outputs": [],
   "source": []
  }
 ],
 "metadata": {
  "kernelspec": {
   "display_name": "venv",
   "language": "python",
   "name": "venv"
  },
  "language_info": {
   "codemirror_mode": {
    "name": "ipython",
    "version": 3
   },
   "file_extension": ".py",
   "mimetype": "text/x-python",
   "name": "python",
   "nbconvert_exporter": "python",
   "pygments_lexer": "ipython3",
   "version": "3.11.5"
  }
 },
 "nbformat": 4,
 "nbformat_minor": 5
}
